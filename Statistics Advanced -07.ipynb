{
 "cells": [
  {
   "cell_type": "markdown",
   "id": "12c59d8f",
   "metadata": {},
   "source": [
    "# Q1. Write a Python function that takes in two arrays of data and calculates the F-value for a variance ratio test. The function should return the F-value and the corresponding p-value for the test."
   ]
  },
  {
   "cell_type": "code",
   "execution_count": 2,
   "id": "a9dd9a40",
   "metadata": {},
   "outputs": [
    {
     "name": "stdout",
     "output_type": "stream",
     "text": [
      "F-value: 1.6857142857142857\n",
      "p-value: 0.7097274320328928\n"
     ]
    }
   ],
   "source": [
    "import numpy as np\n",
    "import scipy.stats as stats\n",
    "\n",
    "def variance_ratio_test(data1, data2):\n",
    "    \"\"\"\n",
    "    Perform a variance ratio test and return the F-value and p-value.\n",
    "\n",
    "    Args:\n",
    "    data1 (array-like): First array of data.\n",
    "    data2 (array-like): Second array of data.\n",
    "\n",
    "    Returns:\n",
    "    float: F-value of the variance ratio test.\n",
    "    float: p-value associated with the F-value.\n",
    "    \"\"\"\n",
    "    # Calculate the variance of the two datasets\n",
    "    var1 = np.var(data1, ddof=1)  # ddof=1 for unbiased estimate of variance\n",
    "    var2 = np.var(data2, ddof=1)\n",
    "    \n",
    "    # Ensure var1 is the larger variance\n",
    "    if var1 < var2:\n",
    "        var1, var2 = var2, var1\n",
    "    \n",
    "    # Calculate the F-statistic\n",
    "    f_statistic = var1 / var2\n",
    "    \n",
    "    # Calculate the degrees of freedom\n",
    "    df1 = len(data1) - 1\n",
    "    df2 = len(data2) - 1\n",
    "    \n",
    "    # Calculate the p-value\n",
    "    p_value = stats.f.cdf(f_statistic, df1, df2)\n",
    "    \n",
    "    return f_statistic, p_value\n",
    "\n",
    "# Example usage\n",
    "data1 = [10, 12, 15, 8, 11, 13]\n",
    "data2 = [7, 8, 9, 6, 10, 11]\n",
    "f_value, p_value = variance_ratio_test(data1, data2)\n",
    "print(f'F-value: {f_value}')\n",
    "print(f'p-value: {p_value}')\n"
   ]
  },
  {
   "cell_type": "markdown",
   "id": "9f804a65",
   "metadata": {},
   "source": [
    "# Q2. Given a significance level of 0.05 and the degrees of freedom for the numerator and denominator of an F-distribution, write a Python function that returns the critical F-value for a two-tailed test."
   ]
  },
  {
   "cell_type": "code",
   "execution_count": 3,
   "id": "137707b8",
   "metadata": {},
   "outputs": [
    {
     "name": "stdout",
     "output_type": "stream",
     "text": [
      "Critical F-value: 3.8586986662732143\n"
     ]
    }
   ],
   "source": [
    "import scipy.stats as stats\n",
    "\n",
    "def critical_f_value(alpha, dfn, dfd):\n",
    "    \"\"\"\n",
    "    Calculate the critical F-value for a two-tailed test.\n",
    "\n",
    "    Args:\n",
    "    alpha (float): Significance level (e.g., 0.05 for 5% significance).\n",
    "    dfn (int): Degrees of freedom for the numerator.\n",
    "    dfd (int): Degrees of freedom for the denominator.\n",
    "\n",
    "    Returns:\n",
    "    float: Critical F-value for the given significance level and degrees of freedom.\n",
    "    \"\"\"\n",
    "    # Calculate the critical F-value using the percent point function (ppf) of the F-distribution\n",
    "    # for the given alpha and degrees of freedom\n",
    "    f_critical = stats.f.ppf(1 - alpha / 2, dfn, dfd)\n",
    "    \n",
    "    return f_critical\n",
    "\n",
    "# Example usage\n",
    "alpha = 0.05  # Significance level\n",
    "dfn = 3      # Degrees of freedom for the numerator\n",
    "dfd = 20     # Degrees of freedom for the denominator\n",
    "critical_f = critical_f_value(alpha, dfn, dfd)\n",
    "print(f'Critical F-value: {critical_f}')\n"
   ]
  },
  {
   "cell_type": "markdown",
   "id": "d8070935",
   "metadata": {},
   "source": [
    "# Q3. Write a Python program that generates random samples from two normal distributions with known variances and uses an F-test to determine if the variances are equal. The program should output the F- value, degrees of freedom, and p-value for the test."
   ]
  },
  {
   "cell_type": "code",
   "execution_count": 4,
   "id": "e014b4d9",
   "metadata": {},
   "outputs": [
    {
     "name": "stdout",
     "output_type": "stream",
     "text": [
      "F-statistic: 1.0863928559446847\n",
      "Degrees of freedom (numerator): 29\n",
      "Degrees of freedom (denominator): 29\n",
      "p-value: 0.8249607865956787\n",
      "The variances are equal.\n"
     ]
    }
   ],
   "source": [
    "import numpy as np\n",
    "import scipy.stats as stats\n",
    "\n",
    "# Set the random seed for reproducibility\n",
    "np.random.seed(0)\n",
    "\n",
    "# Define the parameters\n",
    "sample_size = 30\n",
    "variance1 = 1.5\n",
    "variance2 = 2.0\n",
    "\n",
    "# Generate random samples from two normal distributions with known variances\n",
    "sample1 = np.random.normal(loc=0, scale=np.sqrt(variance1), size=sample_size)\n",
    "sample2 = np.random.normal(loc=0, scale=np.sqrt(variance2), size=sample_size)\n",
    "\n",
    "# Perform an F-test to compare the variances\n",
    "f_statistic = np.var(sample1, ddof=1) / np.var(sample2, ddof=1)\n",
    "df1 = sample_size - 1\n",
    "df2 = sample_size - 1\n",
    "p_value = 2 * min(stats.f.cdf(f_statistic, df1, df2), 1 - stats.f.cdf(f_statistic, df1, df2))\n",
    "\n",
    "# Output the results\n",
    "print(f'F-statistic: {f_statistic}')\n",
    "print(f'Degrees of freedom (numerator): {df1}')\n",
    "print(f'Degrees of freedom (denominator): {df2}')\n",
    "print(f'p-value: {p_value}')\n",
    "\n",
    "# Interpret the results\n",
    "alpha = 0.05  # Set your desired level of significance\n",
    "\n",
    "if p_value < alpha:\n",
    "    print(\"The variances are not equal.\")\n",
    "else:\n",
    "    print(\"The variances are equal.\")\n"
   ]
  },
  {
   "cell_type": "markdown",
   "id": "b3b421eb",
   "metadata": {},
   "source": [
    "# Q4.The variances of two populations are known to be 10 and 15. A sample of 12 observations is taken fromeach population. Conduct an F-test at the 5% significance level to determine if the variances are significantly different."
   ]
  },
  {
   "cell_type": "markdown",
   "id": "17da50fc",
   "metadata": {},
   "source": [
    "To conduct an F-test to determine if the variances of two populations are significantly different, you can use the following steps. The null hypothesis (H0) is that the variances are equal, and the alternative hypothesis (H1) is that the variances are not equal.\n",
    "\n",
    "Given:\n",
    "- Population 1 variance (σ₁²) = 10\n",
    "- Population 2 variance (σ₂²) = 15\n",
    "- Sample size (n) = 12 for each population\n",
    "- Significance level (α) = 0.05\n",
    "\n",
    "Here's how you can perform the F-test:\n",
    "\n",
    "1. Set up the hypotheses:\n",
    "   - Null hypothesis (H0): σ₁² = σ₂² (the variances are equal).\n",
    "   - Alternative hypothesis (H1): σ₁² ≠ σ₂² (the variances are not equal).\n",
    "\n",
    "2. Calculate the test statistic (F-statistic) using the formula:\n",
    "   \n",
    "   F = (larger sample variance) / (smaller sample variance)\n",
    "\n",
    "   In this case, the larger population variance is 15, and the smaller population variance is 10, so:\n",
    "\n",
    "   F = 15 / 10 = 1.5\n",
    "\n",
    "3. Determine the degrees of freedom for the numerator and denominator:\n",
    "   - Degrees of freedom for the numerator (df1) is 11 (sample size - 1).\n",
    "   - Degrees of freedom for the denominator (df2) is 11 for both populations since the sample sizes are the same.\n",
    "\n",
    "4. Find the critical F-value for a two-tailed test at the 5% significance level. You can use an F-table or an online calculator to find the critical value. For α = 0.05 and df1 = 11 and df2 = 11, the critical F-value is approximately 3.816.\n",
    "\n",
    "5. Compare the calculated F-statistic to the critical F-value:\n",
    "   - If F-statistic > critical F-value, reject the null hypothesis (H0).\n",
    "   - If F-statistic ≤ critical F-value, fail to reject the null hypothesis (H0).\n",
    "\n",
    "In this case, the calculated F-statistic (1.5) is less than the critical F-value (3.816), so you would fail to reject the null hypothesis. This means that at the 5% significance level, there is not enough evidence to conclude that the variances of the two populations are significantly different."
   ]
  },
  {
   "cell_type": "markdown",
   "id": "5bcd287e",
   "metadata": {},
   "source": [
    "#  Q5. A manufacturer claims that the variance of the diameter of a certain product is 0.005. A sample of 25 products is taken, and the sample variance is found to be 0.006. Conduct an F-test at the 1% significance level to determine if the claim is justified."
   ]
  },
  {
   "cell_type": "markdown",
   "id": "221827e1",
   "metadata": {},
   "source": [
    "To conduct an F-test to determine if the manufacturer's claim about the variance of the product's diameter is justified, you can follow these steps. The null hypothesis (H0) is that the population variance is equal to the claimed value (0.005), and the alternative hypothesis (H1) is that the population variance is not equal to the claimed value.\n",
    "\n",
    "Given:\n",
    "- Manufacturer's claim about the population variance (σ²) = 0.005\n",
    "- Sample variance (s²) = 0.006\n",
    "- Sample size (n) = 25\n",
    "- Significance level (α) = 0.01 (1%)\n",
    "\n",
    "Here's how you can perform the F-test:\n",
    "\n",
    "1. Set up the hypotheses:\n",
    "   - Null hypothesis (H0): σ² = 0.005 (the population variance is equal to the claimed value).\n",
    "   - Alternative hypothesis (H1): σ² ≠ 0.005 (the population variance is not equal to the claimed value).\n",
    "\n",
    "2. Calculate the test statistic (F-statistic) using the formula:\n",
    "\n",
    "   F = (sample variance) / (claimed population variance)\n",
    "\n",
    "   F = 0.006 / 0.005 = 1.2\n",
    "\n",
    "3. Determine the degrees of freedom for the numerator and denominator:\n",
    "   - Degrees of freedom for the numerator (df1) is n - 1 = 25 - 1 = 24.\n",
    "   - Degrees of freedom for the denominator (df2) is not specified, but it's typically large. You can assume a high value like 100 for this example.\n",
    "\n",
    "4. Find the critical F-value for a two-tailed test at the 1% significance level. You can use an F-table or an online calculator to find the critical value. For α = 0.01, df1 = 24, and df2 = 100, the critical F-value is approximately 2.87.\n",
    "\n",
    "5. Compare the calculated F-statistic to the critical F-value:\n",
    "   - If F-statistic > critical F-value, reject the null hypothesis (H0).\n",
    "   - If F-statistic ≤ critical F-value, fail to reject the null hypothesis (H0).\n",
    "\n",
    "In this case, the calculated F-statistic (1.2) is less than the critical F-value (2.87), so you would fail to reject the null hypothesis. This means that at the 1% significance level, there is not enough evidence to conclude that the population variance of the product's diameter is significantly different from the claimed value of 0.005."
   ]
  },
  {
   "cell_type": "markdown",
   "id": "1c2c9924",
   "metadata": {},
   "source": [
    "# Q6. Write a Python function that takes in the degrees of freedom for the numerator and denominator of an F-distribution and calculates the mean and variance of the distribution. The function should return the mean and variance as a tuple."
   ]
  },
  {
   "cell_type": "code",
   "execution_count": 5,
   "id": "60c90d98",
   "metadata": {},
   "outputs": [
    {
     "name": "stdout",
     "output_type": "stream",
     "text": [
      "Mean: 1.25\n",
      "Variance: 1.3541666666666667\n"
     ]
    }
   ],
   "source": [
    "def f_distribution_mean_and_variance(dfn, dfd):\n",
    "    \"\"\"\n",
    "    Calculate the mean and variance of an F-distribution.\n",
    "\n",
    "    Args:\n",
    "    dfn (int): Degrees of freedom for the numerator.\n",
    "    dfd (int): Degrees of freedom for the denominator.\n",
    "\n",
    "    Returns:\n",
    "    tuple: Mean and variance of the F-distribution.\n",
    "    \"\"\"\n",
    "    # Calculate the mean of the F-distribution\n",
    "    mean = dfd / (dfd - 2) if dfd > 2 else None\n",
    "\n",
    "    # Calculate the variance of the F-distribution\n",
    "    variance = (2 * (dfd ** 2) * (dfn + dfd - 2)) / (dfn * (dfd - 2) ** 2 * (dfd - 4)) if dfd > 4 else None\n",
    "\n",
    "    return mean, variance\n",
    "\n",
    "# Example usage\n",
    "dfn = 5  # Degrees of freedom for the numerator\n",
    "dfd = 10  # Degrees of freedom for the denominator\n",
    "mean, variance = f_distribution_mean_and_variance(dfn, dfd)\n",
    "print(f'Mean: {mean}')\n",
    "print(f'Variance: {variance}')\n"
   ]
  },
  {
   "cell_type": "markdown",
   "id": "cc77b1a0",
   "metadata": {},
   "source": [
    "# Q7. A random sample of 10 measurements is taken from a normal population with unknown variance. The sample variance is found to be 25. Another random sample of 15 measurements is taken from another normal population with unknown variance, and the sample variance is found to be 20. Conduct an F-test at the 10% significance level to determine if the variances are significantly different."
   ]
  },
  {
   "cell_type": "markdown",
   "id": "342ab61a",
   "metadata": {},
   "source": [
    "To conduct an F-test to determine if the variances of two populations are significantly different, you can follow these steps. The null hypothesis (H0) is that the population variances are equal, and the alternative hypothesis (H1) is that the population variances are not equal.\n",
    "\n",
    "Given:\n",
    "- Sample variance for the first population (s1²) = 25\n",
    "- Sample variance for the second population (s2²) = 20\n",
    "- Sample size for the first population (n1) = 10\n",
    "- Sample size for the second population (n2) = 15\n",
    "- Significance level (α) = 0.10 (10%)\n",
    "\n",
    "Here's how you can perform the F-test:\n",
    "\n",
    "1. Set up the hypotheses:\n",
    "   - Null hypothesis (H0): σ1² = σ2² (the population variances are equal).\n",
    "   - Alternative hypothesis (H1): σ1² ≠ σ2² (the population variances are not equal).\n",
    "\n",
    "2. Calculate the test statistic (F-statistic) using the formula:\n",
    "\n",
    "   F = (larger sample variance) / (smaller sample variance)\n",
    "\n",
    "   In this case, the larger sample variance is 25, and the smaller sample variance is 20, so:\n",
    "\n",
    "   F = 25 / 20 = 1.25\n",
    "\n",
    "3. Determine the degrees of freedom for the numerator and denominator:\n",
    "   - Degrees of freedom for the numerator (dfn) is n1 - 1 = 10 - 1 = 9.\n",
    "   - Degrees of freedom for the denominator (dfd) is n2 - 1 = 15 - 1 = 14.\n",
    "\n",
    "4. Find the critical F-value for a two-tailed test at the 10% significance level. You can use an F-table or an online calculator to find the critical value. For α = 0.10, dfn = 9 and dfd = 14, the critical F-value is approximately 3.488.\n",
    "\n",
    "5. Compare the calculated F-statistic to the critical F-value:\n",
    "   - If F-statistic > critical F-value, reject the null hypothesis (H0).\n",
    "   - If F-statistic ≤ critical F-value, fail to reject the null hypothesis (H0).\n",
    "\n",
    "In this case, the calculated F-statistic (1.25) is less than the critical F-value (3.488), so you would fail to reject the null hypothesis. This means that at the 10% significance level, there is not enough evidence to conclude that the population variances of the two samples are significantly different."
   ]
  },
  {
   "cell_type": "markdown",
   "id": "d458b4a7",
   "metadata": {},
   "source": [
    "# Q8. The following data represent the waiting times in minutes at two different restaurants on a Saturday night: Restaurant A: 24, 25, 28, 23, 22, 20, 27; Restaurant B: 31, 33, 35, 30, 32, 36. Conduct an F-test at the 5% significance level to determine if the variances are significantly different."
   ]
  },
  {
   "cell_type": "markdown",
   "id": "f102d574",
   "metadata": {},
   "source": [
    "To conduct an F-test to determine if the variances of the waiting times at Restaurant A and Restaurant B are significantly different, you can follow these steps. The null hypothesis (H0) is that the population variances are equal, and the alternative hypothesis (H1) is that the population variances are not equal.\n",
    "\n",
    "Given:\n",
    "- Waiting times at Restaurant A: [24, 25, 28, 23, 22, 20, 27]\n",
    "- Waiting times at Restaurant B: [31, 33, 35, 30, 32, 36]\n",
    "- Significance level (α) = 0.05 (5%)\n",
    "\n",
    "Here's how you can perform the F-test:\n",
    "\n",
    "1. Set up the hypotheses:\n",
    "   - Null hypothesis (H0): σA² = σB² (the population variances are equal).\n",
    "   - Alternative hypothesis (H1): σA² ≠ σB² (the population variances are not equal).\n",
    "\n",
    "2. Calculate the sample variances for each restaurant:\n",
    "   - Sample variance for Restaurant A (sA²) = 7.81 (you can calculate it using the formula for sample variance).\n",
    "   - Sample variance for Restaurant B (sB²) = 7.33 (you can calculate it using the formula for sample variance).\n",
    "\n",
    "3. Determine the degrees of freedom for the numerator and denominator:\n",
    "   - Degrees of freedom for the numerator (dfn) is 6 - 1 = 5 (for Restaurant A).\n",
    "   - Degrees of freedom for the denominator (dfd) is 5 - 1 = 4 (for Restaurant B).\n",
    "\n",
    "4. Calculate the F-statistic using the formula:\n",
    "\n",
    "   F = (larger sample variance) / (smaller sample variance)\n",
    "\n",
    "   In this case, the larger sample variance is 7.81 (from Restaurant A), and the smaller sample variance is 7.33 (from Restaurant B), so:\n",
    "\n",
    "   F = 7.81 / 7.33 ≈ 1.065\n",
    "\n",
    "5. Find the critical F-value for a two-tailed test at the 5% significance level. You can use an F-table or an online calculator to find the critical value. For α = 0.05, dfn = 5 and dfd = 4, the critical F-value is approximately 6.055.\n",
    "\n",
    "6. Compare the calculated F-statistic to the critical F-value:\n",
    "   - If F-statistic > critical F-value, reject the null hypothesis (H0).\n",
    "   - If F-statistic ≤ critical F-value, fail to reject the null hypothesis (H0).\n",
    "\n",
    "In this case, the calculated F-statistic (1.065) is less than the critical F-value (6.055), so you would fail to reject the null hypothesis. This means that at the 5% significance level, there is not enough evidence to conclude that the population variances of waiting times at Restaurant A and Restaurant B are significantly different."
   ]
  },
  {
   "cell_type": "markdown",
   "id": "9933b156",
   "metadata": {},
   "source": [
    "# Q9. The following data represent the test scores of two groups of students: Group A: 80, 85, 90, 92, 87, 83; Group B: 75, 78, 82, 79, 81, 84. Conduct an F-test at the 1% significance level to determine if the variances are significantly different."
   ]
  },
  {
   "cell_type": "markdown",
   "id": "e340fe23",
   "metadata": {},
   "source": [
    "To conduct an F-test to determine if the variances of the test scores in Group A and Group B are significantly different, you can follow these steps. The null hypothesis (H0) is that the population variances are equal, and the alternative hypothesis (H1) is that the population variances are not equal.\n",
    "\n",
    "Given:\n",
    "- Test scores for Group A: [80, 85, 90, 92, 87, 83]\n",
    "- Test scores for Group B: [75, 78, 82, 79, 81, 84]\n",
    "- Significance level (α) = 0.01 (1%)\n",
    "\n",
    "Here's how you can perform the F-test:\n",
    "\n",
    "1. Set up the hypotheses:\n",
    "   - Null hypothesis (H0): σA² = σB² (the population variances are equal).\n",
    "   - Alternative hypothesis (H1): σA² ≠ σB² (the population variances are not equal).\n",
    "\n",
    "2. Calculate the sample variances for each group:\n",
    "   - Sample variance for Group A (sA²) ≈ 16.33 (you can calculate it using the formula for sample variance).\n",
    "   - Sample variance for Group B (sB²) ≈ 5.33 (you can calculate it using the formula for sample variance).\n",
    "\n",
    "3. Determine the degrees of freedom for the numerator and denominator:\n",
    "   - Degrees of freedom for the numerator (dfn) is 5 (for Group A).\n",
    "   - Degrees of freedom for the denominator (dfd) is 5 (for Group B).\n",
    "\n",
    "4. Calculate the F-statistic using the formula:\n",
    "\n",
    "   F = (larger sample variance) / (smaller sample variance)\n",
    "\n",
    "   In this case, the larger sample variance is approximately 16.33 (from Group A), and the smaller sample variance is approximately 5.33 (from Group B), so:\n",
    "\n",
    "   F ≈ 16.33 / 5.33 ≈ 3.06\n",
    "\n",
    "5. Find the critical F-value for a two-tailed test at the 1% significance level. You can use an F-table or an online calculator to find the critical value. For α = 0.01, dfn = 5 and dfd = 5, the critical F-value is approximately 9.966.\n",
    "\n",
    "6. Compare the calculated F-statistic to the critical F-value:\n",
    "   - If F-statistic > critical F-value, reject the null hypothesis (H0).\n",
    "   - If F-statistic ≤ critical F-value, fail to reject the null hypothesis (H0).\n",
    "\n",
    "In this case, the calculated F-statistic (approximately 3.06) is less than the critical F-value (approximately 9.966), so you would fail to reject the null hypothesis. This means that at the 1% significance level, there is not enough evidence to conclude that the population variances of test scores in Group A and Group B are significantly different."
   ]
  },
  {
   "cell_type": "code",
   "execution_count": null,
   "id": "b393e75e",
   "metadata": {},
   "outputs": [],
   "source": []
  }
 ],
 "metadata": {
  "kernelspec": {
   "display_name": "Python 3 (ipykernel)",
   "language": "python",
   "name": "python3"
  },
  "language_info": {
   "codemirror_mode": {
    "name": "ipython",
    "version": 3
   },
   "file_extension": ".py",
   "mimetype": "text/x-python",
   "name": "python",
   "nbconvert_exporter": "python",
   "pygments_lexer": "ipython3",
   "version": "3.10.9"
  }
 },
 "nbformat": 4,
 "nbformat_minor": 5
}
